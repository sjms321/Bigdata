{
 "cells": [
  {
   "cell_type": "markdown",
   "metadata": {},
   "source": [
    "## [출석인정용과제]\n",
    "TempsRegions.csv를 dictionary 형태로 읽어들여 all_temps_regions라는 list에 집어 넣고 첫번째 dictionary를 출력하시오."
   ]
  },
  {
   "cell_type": "code",
   "execution_count": 57,
   "metadata": {},
   "outputs": [
    {
     "name": "stdout",
     "output_type": "stream",
     "text": [
      "OrderedDict([('city', 'Mobile'), ('state', 'Alabama'), ('lat', '31.2'), ('lng', '88.5'), ('temp', '44'), ('region', 'Southcentral'), ('coastal', 'Y')])\n",
      "OrderedDict([('city', 'Montgomery'), ('state', 'Alabama'), ('lat', '32.9'), ('lng', '86.8'), ('temp', '38'), ('region', 'Southcentral'), ('coastal', 'Y')])\n"
     ]
    }
   ],
   "source": [
    "import csv\n",
    "all_temps_regions =[];\n",
    "with open('TempsRegions.csv', 'r') as A:\n",
    "    reader = csv.DictReader(A)\n",
    "    for row in reader:\n",
    "        all_temps_regions.append(row)\n",
    "    print(all_temps_regions[0])\n",
    "    print(all_temps_regions[1])"
   ]
  },
  {
   "cell_type": "markdown",
   "metadata": {},
   "source": [
    "## [학점취득용과제 1]\n",
    "\n",
    "위에서 읽어들인 데이터를 이용하여 lat vs temp와 lng vs temp에 대한 scatterplot을 add_subplot 함수를 이용하여 한 개의 출력화면에 2x1 포맷(즉, 2개의 그림이 한 열의 위와 아래에 배치되도록)으로 그리시오. 두 그림의 색깔은 다른 것으로 하되  blue, red외의 다른 색을 사용하시오. 또한 두 그림의 x축과 y축에 적당한 axis label을 붙이시오."
   ]
  },
  {
   "cell_type": "code",
   "execution_count": 66,
   "metadata": {},
   "outputs": [
    {
     "data": {
      "image/png": "[encoded data removed]",
      "text/plain": [
       "<Figure size 432x288 with 2 Axes>"
      ]
     },
     "metadata": {
      "needs_background": "light"
     },
     "output_type": "display_data"
    }
   ],
   "source": [
    "from matplotlib import pyplot as plt\n",
    "\n",
    "fig = plt.figure()\n",
    "y = [float(city['temp']) for city in all_temps_regions]\n",
    "x1 = [float(city['lat']) for city in all_temps_regions]\n",
    "x2 = [float(city['lng']) for city in all_temps_regions]\n",
    "ax1 = fig.add_subplot(2, 1, 1)\n",
    "\n",
    "ax1.plot(x1, y, 'o', color='k')\n",
    "plt.xlabel(\"lat\")\n",
    "plt.ylabel(\"temp\")\n",
    "\n",
    "ax2 = fig.add_subplot(2, 1, 2)\n",
    "ax2.plot(x2, y, 'o', color='g')\n",
    "plt.xlabel(\"lng\")\n",
    "plt.ylabel(\"temp\")\n",
    "plt.subplots_adjust(wspace=0.2, \n",
    "                    hspace=0.35)\n",
    "plt.show()"
   ]
  },
  {
   "cell_type": "markdown",
   "metadata": {},
   "source": [
    "## [학점취득용과제 2]\n",
    "\n",
    "출석인정용 과제에서 읽어들인  데이터에서 lat의 최소값을 찾아 출력하시오. List comprehension을 이용하여 한 줄의 코드로 작성하시오."
   ]
  },
  {
   "cell_type": "code",
   "execution_count": 63,
   "metadata": {
    "scrolled": true
   },
   "outputs": [
    {
     "name": "stdout",
     "output_type": "stream",
     "text": [
      "25.0\n"
     ]
    }
   ],
   "source": [
    "print (min([float(city_info['lat']) for city_info in all_temps_regions]))"
   ]
  },
  {
   "cell_type": "code",
   "execution_count": null,
   "metadata": {},
   "outputs": [],
   "source": []
  },
  {
   "cell_type": "code",
   "execution_count": null,
   "metadata": {},
   "outputs": [],
   "source": []
  }
 ],
 "metadata": {
  "kernelspec": {
   "display_name": "Python 3",
   "language": "python",
   "name": "python3"
  },
  "language_info": {
   "codemirror_mode": {
    "name": "ipython",
    "version": 3
   },
   "file_extension": ".py",
   "mimetype": "text/x-python",
   "name": "python",
   "nbconvert_exporter": "python",
   "pygments_lexer": "ipython3",
   "version": "3.7.1"
  }
 },
 "nbformat": 4,
 "nbformat_minor": 4
}
