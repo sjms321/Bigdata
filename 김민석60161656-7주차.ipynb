{
 "cells": [
  {
   "cell_type": "markdown",
   "metadata": {},
   "source": [
    "## [출석인정용과제]\n",
    "property data.csv를 dataframe 형태로 읽어들여 df에 집어 넣고 OWN_OCCUPIED 열에 있는 NULL의 갯수를 출력하시오. 여기서 NULL은 pandas가 인식할 수 있는 Standard missing data를 의미함."
   ]
  },
  {
   "cell_type": "code",
   "execution_count": 4,
   "metadata": {},
   "outputs": [
    {
     "name": "stdout",
     "output_type": "stream",
     "text": [
      "1\n"
     ]
    }
   ],
   "source": [
    "import pandas as pd\n",
    "df = pd.read_csv(\"property data.csv\")\n",
    "print(df[\"OWN_OCCUPIED\"].isnull().sum())"
   ]
  },
  {
   "cell_type": "markdown",
   "metadata": {},
   "source": [
    "## [학점취득용과제 1]\n",
    "\n",
    "1. OWN_OCCUPIED 열을 출력하시오\n",
    "1. OWN_OCCUPIED 열은 'Y' 또는 'N'값을 가져야 한다. 위에서 찾은 NULL값이 있는 자리를 'Y' 와 'N' 중에서 OWN_OCCUPIED 열에 더많이 나타나는 값으로 impute하고, impute한 결과가 보이도록 OWN_OCCUPIED 열을 출력하시오.  'Y' 와 'N' 중에서 OWN_OCCUPIED 열에 더많이 나타나는 값은 직접 주면 안되고 반드시 python coding을 통해 찾으시오."
   ]
  },
  {
   "cell_type": "code",
   "execution_count": 28,
   "metadata": {},
   "outputs": [
    {
     "name": "stdout",
     "output_type": "stream",
     "text": [
      "0      Y\n",
      "1      N\n",
      "2      N\n",
      "3     12\n",
      "4      Y\n",
      "5      Y\n",
      "6    NaN\n",
      "7      Y\n",
      "8      Y\n",
      "Name: OWN_OCCUPIED, dtype: object\n",
      "\n",
      "0     Y\n",
      "1     N\n",
      "2     N\n",
      "3    12\n",
      "4     Y\n",
      "5     Y\n",
      "6     Y\n",
      "7     Y\n",
      "8     Y\n",
      "Name: OWN_OCCUPIED, dtype: object\n"
     ]
    }
   ],
   "source": [
    "print(df['OWN_OCCUPIED'])\n",
    "print()\n",
    "ycnt=0\n",
    "ncnt=0\n",
    "\n",
    "for row in df['OWN_OCCUPIED']:\n",
    "    if(row == 'Y'):\n",
    "        ycnt+=1\n",
    "    elif(row == 'N'):\n",
    "        ncnt+=1\n",
    "        \n",
    "if(ycnt>ncnt):\n",
    "    print(df['OWN_OCCUPIED'].fillna('Y'))\n",
    "else:\n",
    "     print(df['OWN_OCCUPIED'].fillna('N'))\n",
    "\n",
    "\n"
   ]
  },
  {
   "cell_type": "markdown",
   "metadata": {},
   "source": [
    "## [학점취득용과제 2]\n",
    "\n",
    "1. 아래 dataframe에서 'two'열의 NULL값을 그 열의 평균값으로 impute 하고 전체 dataframe을 출력하시오\n",
    "1. 그 후 NULL 값이 하나라도 있는 열을 모두 제거하고 출력하시오"
   ]
  },
  {
   "cell_type": "code",
   "execution_count": 37,
   "metadata": {},
   "outputs": [
    {
     "name": "stdout",
     "output_type": "stream",
     "text": [
      "        one       two     three\n",
      "a -0.067575 -1.422091 -0.992471\n",
      "b       NaN       NaN       NaN\n",
      "c -1.283000 -0.398140  0.360167\n",
      "\n",
      "        one       two     three\n",
      "a -0.067575 -1.422091 -0.992471\n",
      "b       NaN -0.910116       NaN\n",
      "c -1.283000 -0.398140  0.360167\n",
      "\n",
      "        two\n",
      "a -1.422091\n",
      "b -0.910116\n",
      "c -0.398140\n"
     ]
    }
   ],
   "source": [
    "import numpy as np\n",
    "\n",
    "df = pd.DataFrame(np.random.randn(3, 3), index=['a', 'c', 'e'],columns=['one','two', 'three'])\n",
    "df = df.reindex(['a', 'b', 'c'])\n",
    "print(df)\n",
    "values = {'two': df.mean()['two']}\n",
    "df=df.fillna(value=values)\n",
    "print()\n",
    "print(df)\n",
    "print()\n",
    "print(df.dropna(axis=1))\n"
   ]
  },
  {
   "cell_type": "code",
   "execution_count": null,
   "metadata": {},
   "outputs": [],
   "source": []
  }
 ],
 "metadata": {
  "kernelspec": {
   "display_name": "Python 3",
   "language": "python",
   "name": "python3"
  },
  "language_info": {
   "codemirror_mode": {
    "name": "ipython",
    "version": 3
   },
   "file_extension": ".py",
   "mimetype": "text/x-python",
   "name": "python",
   "nbconvert_exporter": "python",
   "pygments_lexer": "ipython3",
   "version": "3.7.1"
  }
 },
 "nbformat": 4,
 "nbformat_minor": 4
}
